{
 "cells": [
  {
   "cell_type": "code",
   "execution_count": null,
   "metadata": {
    "colab": {
     "base_uri": "https://localhost:8080/"
    },
    "id": "S7ay1Od9Qsc3",
    "outputId": "99791ab3-742e-4707-c6f8-45cd37ca3b6e"
   },
   "outputs": [
    {
     "name": "stdout",
     "output_type": "stream",
     "text": [
      "Mounted at /content/drive\n"
     ]
    }
   ],
   "source": [
    "from google.colab import drive\n",
    "drive.mount('/content/drive')"
   ]
  },
  {
   "cell_type": "code",
   "execution_count": null,
   "metadata": {
    "colab": {
     "base_uri": "https://localhost:8080/"
    },
    "id": "Nb-6qmHTQzTB",
    "outputId": "a7ad0ca2-4438-4c2f-df2e-405cb47876bc"
   },
   "outputs": [
    {
     "name": "stdout",
     "output_type": "stream",
     "text": [
      "/content/drive/MyDrive/NLP/TranscribeAI\n"
     ]
    }
   ],
   "source": [
    "%cd /content/drive/MyDrive/NLP/TranscribeAI/"
   ]
  },
  {
   "cell_type": "code",
   "execution_count": null,
   "metadata": {
    "colab": {
     "base_uri": "https://localhost:8080/"
    },
    "id": "LfIfdSdsS91t",
    "outputId": "70d22914-a78e-4239-94f4-9947cd2e245b"
   },
   "outputs": [
    {
     "name": "stdout",
     "output_type": "stream",
     "text": [
      "Collecting jiwer\n",
      "  Downloading jiwer-3.0.5-py3-none-any.whl.metadata (2.7 kB)\n",
      "Requirement already satisfied: click<9.0.0,>=8.1.3 in /usr/local/lib/python3.10/dist-packages (from jiwer) (8.1.7)\n",
      "Collecting rapidfuzz<4,>=3 (from jiwer)\n",
      "  Downloading rapidfuzz-3.10.1-cp310-cp310-manylinux_2_17_x86_64.manylinux2014_x86_64.whl.metadata (11 kB)\n",
      "Downloading jiwer-3.0.5-py3-none-any.whl (21 kB)\n",
      "Downloading rapidfuzz-3.10.1-cp310-cp310-manylinux_2_17_x86_64.manylinux2014_x86_64.whl (3.1 MB)\n",
      "\u001b[2K   \u001b[90m━━━━━━━━━━━━━━━━━━━━━━━━━━━━━━━━━━━━━━━━\u001b[0m \u001b[32m3.1/3.1 MB\u001b[0m \u001b[31m24.1 MB/s\u001b[0m eta \u001b[36m0:00:00\u001b[0m\n",
      "\u001b[?25hInstalling collected packages: rapidfuzz, jiwer\n",
      "Successfully installed jiwer-3.0.5 rapidfuzz-3.10.1\n",
      "Collecting pysrt\n",
      "  Downloading pysrt-1.1.2.tar.gz (104 kB)\n",
      "\u001b[2K     \u001b[90m━━━━━━━━━━━━━━━━━━━━━━━━━━━━━━━━━━━━━━━━\u001b[0m \u001b[32m104.4/104.4 kB\u001b[0m \u001b[31m2.3 MB/s\u001b[0m eta \u001b[36m0:00:00\u001b[0m\n",
      "\u001b[?25h  Preparing metadata (setup.py) ... \u001b[?25l\u001b[?25hdone\n",
      "Requirement already satisfied: chardet in /usr/local/lib/python3.10/dist-packages (from pysrt) (5.2.0)\n",
      "Building wheels for collected packages: pysrt\n",
      "  Building wheel for pysrt (setup.py) ... \u001b[?25l\u001b[?25hdone\n",
      "  Created wheel for pysrt: filename=pysrt-1.1.2-py3-none-any.whl size=13443 sha256=8e3caae0c1389ab4e278b5e9eb2ad0ea41a69d0d9b5f4ffaf7e61c2a50899094\n",
      "  Stored in directory: /root/.cache/pip/wheels/30/7f/e8/55de9a9b07302d9e7fe47c27910e3bea0c48536153e74bd7e6\n",
      "Successfully built pysrt\n",
      "Installing collected packages: pysrt\n",
      "Successfully installed pysrt-1.1.2\n",
      "Collecting srt\n",
      "  Downloading srt-3.5.3.tar.gz (28 kB)\n",
      "  Preparing metadata (setup.py) ... \u001b[?25l\u001b[?25hdone\n",
      "Building wheels for collected packages: srt\n",
      "  Building wheel for srt (setup.py) ... \u001b[?25l\u001b[?25hdone\n",
      "  Created wheel for srt: filename=srt-3.5.3-py3-none-any.whl size=22428 sha256=563e0315a7db024a2c78f8d1325e02b4bbe85eebc34ef90ebaf4aca161a960bb\n",
      "  Stored in directory: /root/.cache/pip/wheels/d7/31/a1/18e1e7e8bfdafd19e6803d7eb919b563dd11de380e4304e332\n",
      "Successfully built srt\n",
      "Installing collected packages: srt\n",
      "Successfully installed srt-3.5.3\n",
      "Collecting Levenshtein\n",
      "  Downloading levenshtein-0.26.1-cp310-cp310-manylinux_2_17_x86_64.manylinux2014_x86_64.whl.metadata (3.2 kB)\n",
      "Requirement already satisfied: rapidfuzz<4.0.0,>=3.9.0 in /usr/local/lib/python3.10/dist-packages (from Levenshtein) (3.10.1)\n",
      "Downloading levenshtein-0.26.1-cp310-cp310-manylinux_2_17_x86_64.manylinux2014_x86_64.whl (162 kB)\n",
      "\u001b[2K   \u001b[90m━━━━━━━━━━━━━━━━━━━━━━━━━━━━━━━━━━━━━━━━\u001b[0m \u001b[32m162.6/162.6 kB\u001b[0m \u001b[31m2.8 MB/s\u001b[0m eta \u001b[36m0:00:00\u001b[0m\n",
      "\u001b[?25hInstalling collected packages: Levenshtein\n",
      "Successfully installed Levenshtein-0.26.1\n"
     ]
    }
   ],
   "source": [
    "!pip install jiwer\n",
    "!pip install pysrt\n",
    "!pip install srt\n",
    "!pip install Levenshtein"
   ]
  },
  {
   "cell_type": "code",
   "execution_count": null,
   "metadata": {
    "id": "BczC-9aPSoX7"
   },
   "outputs": [],
   "source": [
    "import pysrt\n",
    "from jiwer import wer, cer\n",
    "import matplotlib.pyplot as plt\n",
    "import re\n",
    "from difflib import SequenceMatcher\n",
    "import srt\n",
    "import Levenshtein\n",
    "from sklearn.feature_extraction.text import TfidfVectorizer\n",
    "from sklearn.metrics.pairwise import cosine_similarity\n",
    "import matplotlib.pyplot as plt\n",
    "from pysrt import SubRipFile\n",
    "import pandas as pd\n",
    "import os"
   ]
  },
  {
   "cell_type": "markdown",
   "metadata": {
    "id": "c4KC-0wrwaGR"
   },
   "source": [
    "# WER and CER"
   ]
  },
  {
   "cell_type": "code",
   "execution_count": null,
   "metadata": {
    "id": "Q-zlBY5HS8qk"
   },
   "outputs": [],
   "source": [
    "def calculate_error_rates(ground_truth_path, whisper_path):\n",
    "    \"\"\"\n",
    "    Calculate Word Error Rate (WER) and Character Error Rate (CER) between two SRT files.\n",
    "\n",
    "    Parameters:\n",
    "        ground_truth_path (str): Path to the ground truth SRT file.\n",
    "        whisper_path (str): Path to the Whisper SRT file.\n",
    "\n",
    "    Returns:\n",
    "        dict: A dictionary containing the WER and CER values.\n",
    "    \"\"\"\n",
    "    # Load SRT files\n",
    "    ground_truth_srt = pysrt.open(ground_truth_path)\n",
    "    whisper_srt = pysrt.open(whisper_path)\n",
    "\n",
    "    # Extract text content from the SRT files\n",
    "    ground_truth_text = \" \".join([sub.text for sub in ground_truth_srt])\n",
    "    whisper_text = \" \".join([sub.text for sub in whisper_srt])\n",
    "\n",
    "    # Calculate WER and CER\n",
    "    word_error_rate = wer(ground_truth_text, whisper_text)\n",
    "    char_error_rate = cer(ground_truth_text, whisper_text)\n",
    "\n",
    "    # Return results\n",
    "    return {\n",
    "        \"WER\": word_error_rate,\n",
    "        \"CER\": char_error_rate\n",
    "    }"
   ]
  },
  {
   "cell_type": "code",
   "execution_count": null,
   "metadata": {
    "colab": {
     "base_uri": "https://localhost:8080/"
    },
    "id": "ypDRMfidWmN8",
    "outputId": "3ef016d8-45a2-4081-9e2e-9bbe275d29b9"
   },
   "outputs": [
    {
     "name": "stdout",
     "output_type": "stream",
     "text": [
      "Word Error Rate (WER): 10.71%\n",
      "Character Error Rate (CER): 5.99%\n"
     ]
    }
   ],
   "source": [
    "# Example usage\n",
    "error_rates = calculate_error_rates('Ground_truth_srt/3_min/part1.srt', 'SaT_srt/part1.srt')\n",
    "print(f\"Word Error Rate (WER): {error_rates['WER'] * 100:.2f}%\")\n",
    "print(f\"Character Error Rate (CER): {error_rates['CER'] * 100:.2f}%\")"
   ]
  },
  {
   "cell_type": "code",
   "execution_count": null,
   "metadata": {
    "id": "Ljt5oxUm4Ybx"
   },
   "outputs": [],
   "source": [
    "def process_folders(ground_truth_folder, whisper_folder):\n",
    "    \"\"\"\n",
    "    Process all SRT files in two folders and calculate WER and CER for each corresponding pair.\n",
    "\n",
    "    Parameters:\n",
    "        ground_truth_folder (str): Path to the folder containing the ground truth SRT files.\n",
    "        whisper_folder (str): Path to the folder containing the Whisper SRT files.\n",
    "\n",
    "    Returns:\n",
    "        dict: A dictionary where keys are SRT filenames, and values are dictionaries with WER and CER.\n",
    "    \"\"\"\n",
    "    error_rates = {}\n",
    "    total_wer = 0\n",
    "    total_cer = 0\n",
    "    num_files = 0\n",
    "\n",
    "    # Get all the SRT filenames from both folders\n",
    "    ground_truth_files = sorted([f for f in os.listdir(ground_truth_folder) if f.endswith('.srt')])\n",
    "    whisper_files = sorted([f for f in os.listdir(whisper_folder) if f.endswith('.srt')])\n",
    "\n",
    "    # Ensure both folders have the same number of files\n",
    "    if len(ground_truth_files) != len(whisper_files):\n",
    "        raise ValueError(\"The number of SRT files in the two folders do not match.\")\n",
    "\n",
    "    # Process each pair of corresponding SRT files\n",
    "    for gt_file, whisper_file in zip(ground_truth_files, whisper_files):\n",
    "        ground_truth_path = os.path.join(ground_truth_folder, gt_file)\n",
    "        whisper_path = os.path.join(whisper_folder, whisper_file)\n",
    "\n",
    "        # Calculate error rates for the current pair\n",
    "        error_rate = calculate_error_rates(ground_truth_path, whisper_path)\n",
    "        error_rates[gt_file] = error_rate\n",
    "\n",
    "        # Accumulate the WER and CER values for averaging\n",
    "        total_wer += error_rate[\"WER\"]\n",
    "        total_cer += error_rate[\"CER\"]\n",
    "        num_files += 1\n",
    "\n",
    "    # Calculate averages\n",
    "    average_wer = total_wer / num_files if num_files else 0\n",
    "    average_cer = total_cer / num_files if num_files else 0\n",
    "\n",
    "    return error_rates, average_wer, average_cer"
   ]
  },
  {
   "cell_type": "code",
   "execution_count": null,
   "metadata": {
    "colab": {
     "base_uri": "https://localhost:8080/",
     "height": 582
    },
    "id": "2UVcNob84YiN",
    "outputId": "1d868cc7-5424-470d-a657-7774a6585207"
   },
   "outputs": [
    {
     "data": {
      "application/vnd.google.colaboratory.intrinsic+json": {
       "summary": "{\n  \"name\": \"df\",\n  \"rows\": 17,\n  \"fields\": [\n    {\n      \"column\": \"WER\",\n      \"properties\": {\n        \"dtype\": \"number\",\n        \"std\": 0.02871585787783229,\n        \"min\": 0.061224489795918366,\n        \"max\": 0.1673469387755102,\n        \"num_unique_values\": 17,\n        \"samples\": [\n          0.07865168539325842,\n          0.12475247524752475,\n          0.06744186046511629\n        ],\n        \"semantic_type\": \"\",\n        \"description\": \"\"\n      }\n    },\n    {\n      \"column\": \"CER\",\n      \"properties\": {\n        \"dtype\": \"number\",\n        \"std\": 0.018943023122700495,\n        \"min\": 0.026500389711613406,\n        \"max\": 0.10361182050346589,\n        \"num_unique_values\": 17,\n        \"samples\": [\n          0.049255846917080084,\n          0.0896577380952381,\n          0.04081632653061224\n        ],\n        \"semantic_type\": \"\",\n        \"description\": \"\"\n      }\n    }\n  ]\n}",
       "type": "dataframe",
       "variable_name": "df"
      },
      "text/html": [
       "\n",
       "  <div id=\"df-7883398a-d7a9-4306-b401-7b4859654a29\" class=\"colab-df-container\">\n",
       "    <div>\n",
       "<style scoped>\n",
       "    .dataframe tbody tr th:only-of-type {\n",
       "        vertical-align: middle;\n",
       "    }\n",
       "\n",
       "    .dataframe tbody tr th {\n",
       "        vertical-align: top;\n",
       "    }\n",
       "\n",
       "    .dataframe thead th {\n",
       "        text-align: right;\n",
       "    }\n",
       "</style>\n",
       "<table border=\"1\" class=\"dataframe\">\n",
       "  <thead>\n",
       "    <tr style=\"text-align: right;\">\n",
       "      <th></th>\n",
       "      <th>WER</th>\n",
       "      <th>CER</th>\n",
       "    </tr>\n",
       "  </thead>\n",
       "  <tbody>\n",
       "    <tr>\n",
       "      <th>analysis1.srt</th>\n",
       "      <td>0.078652</td>\n",
       "      <td>0.049256</td>\n",
       "    </tr>\n",
       "    <tr>\n",
       "      <th>analysis2.srt</th>\n",
       "      <td>0.124752</td>\n",
       "      <td>0.089658</td>\n",
       "    </tr>\n",
       "    <tr>\n",
       "      <th>analysis3.srt</th>\n",
       "      <td>0.167347</td>\n",
       "      <td>0.049602</td>\n",
       "    </tr>\n",
       "    <tr>\n",
       "      <th>part1.srt</th>\n",
       "      <td>0.107071</td>\n",
       "      <td>0.059895</td>\n",
       "    </tr>\n",
       "    <tr>\n",
       "      <th>part10.srt</th>\n",
       "      <td>0.109620</td>\n",
       "      <td>0.055346</td>\n",
       "    </tr>\n",
       "    <tr>\n",
       "      <th>part11.srt</th>\n",
       "      <td>0.067442</td>\n",
       "      <td>0.040816</td>\n",
       "    </tr>\n",
       "    <tr>\n",
       "      <th>part12.srt</th>\n",
       "      <td>0.116162</td>\n",
       "      <td>0.073452</td>\n",
       "    </tr>\n",
       "    <tr>\n",
       "      <th>part13.srt</th>\n",
       "      <td>0.129344</td>\n",
       "      <td>0.103612</td>\n",
       "    </tr>\n",
       "    <tr>\n",
       "      <th>part2.srt</th>\n",
       "      <td>0.079320</td>\n",
       "      <td>0.042634</td>\n",
       "    </tr>\n",
       "    <tr>\n",
       "      <th>part3.srt</th>\n",
       "      <td>0.061224</td>\n",
       "      <td>0.026500</td>\n",
       "    </tr>\n",
       "    <tr>\n",
       "      <th>part4.srt</th>\n",
       "      <td>0.088889</td>\n",
       "      <td>0.044301</td>\n",
       "    </tr>\n",
       "    <tr>\n",
       "      <th>part5.srt</th>\n",
       "      <td>0.099256</td>\n",
       "      <td>0.051891</td>\n",
       "    </tr>\n",
       "    <tr>\n",
       "      <th>part6.srt</th>\n",
       "      <td>0.123223</td>\n",
       "      <td>0.073977</td>\n",
       "    </tr>\n",
       "    <tr>\n",
       "      <th>part7.srt</th>\n",
       "      <td>0.091133</td>\n",
       "      <td>0.056760</td>\n",
       "    </tr>\n",
       "    <tr>\n",
       "      <th>part8.srt</th>\n",
       "      <td>0.090293</td>\n",
       "      <td>0.046069</td>\n",
       "    </tr>\n",
       "    <tr>\n",
       "      <th>part9.srt</th>\n",
       "      <td>0.154639</td>\n",
       "      <td>0.068766</td>\n",
       "    </tr>\n",
       "    <tr>\n",
       "      <th>Average</th>\n",
       "      <td>0.105523</td>\n",
       "      <td>0.058284</td>\n",
       "    </tr>\n",
       "  </tbody>\n",
       "</table>\n",
       "</div>\n",
       "    <div class=\"colab-df-buttons\">\n",
       "\n",
       "  <div class=\"colab-df-container\">\n",
       "    <button class=\"colab-df-convert\" onclick=\"convertToInteractive('df-7883398a-d7a9-4306-b401-7b4859654a29')\"\n",
       "            title=\"Convert this dataframe to an interactive table.\"\n",
       "            style=\"display:none;\">\n",
       "\n",
       "  <svg xmlns=\"http://www.w3.org/2000/svg\" height=\"24px\" viewBox=\"0 -960 960 960\">\n",
       "    <path d=\"M120-120v-720h720v720H120Zm60-500h600v-160H180v160Zm220 220h160v-160H400v160Zm0 220h160v-160H400v160ZM180-400h160v-160H180v160Zm440 0h160v-160H620v160ZM180-180h160v-160H180v160Zm440 0h160v-160H620v160Z\"/>\n",
       "  </svg>\n",
       "    </button>\n",
       "\n",
       "  <style>\n",
       "    .colab-df-container {\n",
       "      display:flex;\n",
       "      gap: 12px;\n",
       "    }\n",
       "\n",
       "    .colab-df-convert {\n",
       "      background-color: #E8F0FE;\n",
       "      border: none;\n",
       "      border-radius: 50%;\n",
       "      cursor: pointer;\n",
       "      display: none;\n",
       "      fill: #1967D2;\n",
       "      height: 32px;\n",
       "      padding: 0 0 0 0;\n",
       "      width: 32px;\n",
       "    }\n",
       "\n",
       "    .colab-df-convert:hover {\n",
       "      background-color: #E2EBFA;\n",
       "      box-shadow: 0px 1px 2px rgba(60, 64, 67, 0.3), 0px 1px 3px 1px rgba(60, 64, 67, 0.15);\n",
       "      fill: #174EA6;\n",
       "    }\n",
       "\n",
       "    .colab-df-buttons div {\n",
       "      margin-bottom: 4px;\n",
       "    }\n",
       "\n",
       "    [theme=dark] .colab-df-convert {\n",
       "      background-color: #3B4455;\n",
       "      fill: #D2E3FC;\n",
       "    }\n",
       "\n",
       "    [theme=dark] .colab-df-convert:hover {\n",
       "      background-color: #434B5C;\n",
       "      box-shadow: 0px 1px 3px 1px rgba(0, 0, 0, 0.15);\n",
       "      filter: drop-shadow(0px 1px 2px rgba(0, 0, 0, 0.3));\n",
       "      fill: #FFFFFF;\n",
       "    }\n",
       "  </style>\n",
       "\n",
       "    <script>\n",
       "      const buttonEl =\n",
       "        document.querySelector('#df-7883398a-d7a9-4306-b401-7b4859654a29 button.colab-df-convert');\n",
       "      buttonEl.style.display =\n",
       "        google.colab.kernel.accessAllowed ? 'block' : 'none';\n",
       "\n",
       "      async function convertToInteractive(key) {\n",
       "        const element = document.querySelector('#df-7883398a-d7a9-4306-b401-7b4859654a29');\n",
       "        const dataTable =\n",
       "          await google.colab.kernel.invokeFunction('convertToInteractive',\n",
       "                                                    [key], {});\n",
       "        if (!dataTable) return;\n",
       "\n",
       "        const docLinkHtml = 'Like what you see? Visit the ' +\n",
       "          '<a target=\"_blank\" href=https://colab.research.google.com/notebooks/data_table.ipynb>data table notebook</a>'\n",
       "          + ' to learn more about interactive tables.';\n",
       "        element.innerHTML = '';\n",
       "        dataTable['output_type'] = 'display_data';\n",
       "        await google.colab.output.renderOutput(dataTable, element);\n",
       "        const docLink = document.createElement('div');\n",
       "        docLink.innerHTML = docLinkHtml;\n",
       "        element.appendChild(docLink);\n",
       "      }\n",
       "    </script>\n",
       "  </div>\n",
       "\n",
       "\n",
       "<div id=\"df-44fd8b39-bb9a-49b6-9edd-9fd6bebe878d\">\n",
       "  <button class=\"colab-df-quickchart\" onclick=\"quickchart('df-44fd8b39-bb9a-49b6-9edd-9fd6bebe878d')\"\n",
       "            title=\"Suggest charts\"\n",
       "            style=\"display:none;\">\n",
       "\n",
       "<svg xmlns=\"http://www.w3.org/2000/svg\" height=\"24px\"viewBox=\"0 0 24 24\"\n",
       "     width=\"24px\">\n",
       "    <g>\n",
       "        <path d=\"M19 3H5c-1.1 0-2 .9-2 2v14c0 1.1.9 2 2 2h14c1.1 0 2-.9 2-2V5c0-1.1-.9-2-2-2zM9 17H7v-7h2v7zm4 0h-2V7h2v10zm4 0h-2v-4h2v4z\"/>\n",
       "    </g>\n",
       "</svg>\n",
       "  </button>\n",
       "\n",
       "<style>\n",
       "  .colab-df-quickchart {\n",
       "      --bg-color: #E8F0FE;\n",
       "      --fill-color: #1967D2;\n",
       "      --hover-bg-color: #E2EBFA;\n",
       "      --hover-fill-color: #174EA6;\n",
       "      --disabled-fill-color: #AAA;\n",
       "      --disabled-bg-color: #DDD;\n",
       "  }\n",
       "\n",
       "  [theme=dark] .colab-df-quickchart {\n",
       "      --bg-color: #3B4455;\n",
       "      --fill-color: #D2E3FC;\n",
       "      --hover-bg-color: #434B5C;\n",
       "      --hover-fill-color: #FFFFFF;\n",
       "      --disabled-bg-color: #3B4455;\n",
       "      --disabled-fill-color: #666;\n",
       "  }\n",
       "\n",
       "  .colab-df-quickchart {\n",
       "    background-color: var(--bg-color);\n",
       "    border: none;\n",
       "    border-radius: 50%;\n",
       "    cursor: pointer;\n",
       "    display: none;\n",
       "    fill: var(--fill-color);\n",
       "    height: 32px;\n",
       "    padding: 0;\n",
       "    width: 32px;\n",
       "  }\n",
       "\n",
       "  .colab-df-quickchart:hover {\n",
       "    background-color: var(--hover-bg-color);\n",
       "    box-shadow: 0 1px 2px rgba(60, 64, 67, 0.3), 0 1px 3px 1px rgba(60, 64, 67, 0.15);\n",
       "    fill: var(--button-hover-fill-color);\n",
       "  }\n",
       "\n",
       "  .colab-df-quickchart-complete:disabled,\n",
       "  .colab-df-quickchart-complete:disabled:hover {\n",
       "    background-color: var(--disabled-bg-color);\n",
       "    fill: var(--disabled-fill-color);\n",
       "    box-shadow: none;\n",
       "  }\n",
       "\n",
       "  .colab-df-spinner {\n",
       "    border: 2px solid var(--fill-color);\n",
       "    border-color: transparent;\n",
       "    border-bottom-color: var(--fill-color);\n",
       "    animation:\n",
       "      spin 1s steps(1) infinite;\n",
       "  }\n",
       "\n",
       "  @keyframes spin {\n",
       "    0% {\n",
       "      border-color: transparent;\n",
       "      border-bottom-color: var(--fill-color);\n",
       "      border-left-color: var(--fill-color);\n",
       "    }\n",
       "    20% {\n",
       "      border-color: transparent;\n",
       "      border-left-color: var(--fill-color);\n",
       "      border-top-color: var(--fill-color);\n",
       "    }\n",
       "    30% {\n",
       "      border-color: transparent;\n",
       "      border-left-color: var(--fill-color);\n",
       "      border-top-color: var(--fill-color);\n",
       "      border-right-color: var(--fill-color);\n",
       "    }\n",
       "    40% {\n",
       "      border-color: transparent;\n",
       "      border-right-color: var(--fill-color);\n",
       "      border-top-color: var(--fill-color);\n",
       "    }\n",
       "    60% {\n",
       "      border-color: transparent;\n",
       "      border-right-color: var(--fill-color);\n",
       "    }\n",
       "    80% {\n",
       "      border-color: transparent;\n",
       "      border-right-color: var(--fill-color);\n",
       "      border-bottom-color: var(--fill-color);\n",
       "    }\n",
       "    90% {\n",
       "      border-color: transparent;\n",
       "      border-bottom-color: var(--fill-color);\n",
       "    }\n",
       "  }\n",
       "</style>\n",
       "\n",
       "  <script>\n",
       "    async function quickchart(key) {\n",
       "      const quickchartButtonEl =\n",
       "        document.querySelector('#' + key + ' button');\n",
       "      quickchartButtonEl.disabled = true;  // To prevent multiple clicks.\n",
       "      quickchartButtonEl.classList.add('colab-df-spinner');\n",
       "      try {\n",
       "        const charts = await google.colab.kernel.invokeFunction(\n",
       "            'suggestCharts', [key], {});\n",
       "      } catch (error) {\n",
       "        console.error('Error during call to suggestCharts:', error);\n",
       "      }\n",
       "      quickchartButtonEl.classList.remove('colab-df-spinner');\n",
       "      quickchartButtonEl.classList.add('colab-df-quickchart-complete');\n",
       "    }\n",
       "    (() => {\n",
       "      let quickchartButtonEl =\n",
       "        document.querySelector('#df-44fd8b39-bb9a-49b6-9edd-9fd6bebe878d button');\n",
       "      quickchartButtonEl.style.display =\n",
       "        google.colab.kernel.accessAllowed ? 'block' : 'none';\n",
       "    })();\n",
       "  </script>\n",
       "</div>\n",
       "\n",
       "  <div id=\"id_e65a863d-4d3b-48af-bf85-1db930355cce\">\n",
       "    <style>\n",
       "      .colab-df-generate {\n",
       "        background-color: #E8F0FE;\n",
       "        border: none;\n",
       "        border-radius: 50%;\n",
       "        cursor: pointer;\n",
       "        display: none;\n",
       "        fill: #1967D2;\n",
       "        height: 32px;\n",
       "        padding: 0 0 0 0;\n",
       "        width: 32px;\n",
       "      }\n",
       "\n",
       "      .colab-df-generate:hover {\n",
       "        background-color: #E2EBFA;\n",
       "        box-shadow: 0px 1px 2px rgba(60, 64, 67, 0.3), 0px 1px 3px 1px rgba(60, 64, 67, 0.15);\n",
       "        fill: #174EA6;\n",
       "      }\n",
       "\n",
       "      [theme=dark] .colab-df-generate {\n",
       "        background-color: #3B4455;\n",
       "        fill: #D2E3FC;\n",
       "      }\n",
       "\n",
       "      [theme=dark] .colab-df-generate:hover {\n",
       "        background-color: #434B5C;\n",
       "        box-shadow: 0px 1px 3px 1px rgba(0, 0, 0, 0.15);\n",
       "        filter: drop-shadow(0px 1px 2px rgba(0, 0, 0, 0.3));\n",
       "        fill: #FFFFFF;\n",
       "      }\n",
       "    </style>\n",
       "    <button class=\"colab-df-generate\" onclick=\"generateWithVariable('df')\"\n",
       "            title=\"Generate code using this dataframe.\"\n",
       "            style=\"display:none;\">\n",
       "\n",
       "  <svg xmlns=\"http://www.w3.org/2000/svg\" height=\"24px\"viewBox=\"0 0 24 24\"\n",
       "       width=\"24px\">\n",
       "    <path d=\"M7,19H8.4L18.45,9,17,7.55,7,17.6ZM5,21V16.75L18.45,3.32a2,2,0,0,1,2.83,0l1.4,1.43a1.91,1.91,0,0,1,.58,1.4,1.91,1.91,0,0,1-.58,1.4L9.25,21ZM18.45,9,17,7.55Zm-12,3A5.31,5.31,0,0,0,4.9,8.1,5.31,5.31,0,0,0,1,6.5,5.31,5.31,0,0,0,4.9,4.9,5.31,5.31,0,0,0,6.5,1,5.31,5.31,0,0,0,8.1,4.9,5.31,5.31,0,0,0,12,6.5,5.46,5.46,0,0,0,6.5,12Z\"/>\n",
       "  </svg>\n",
       "    </button>\n",
       "    <script>\n",
       "      (() => {\n",
       "      const buttonEl =\n",
       "        document.querySelector('#id_e65a863d-4d3b-48af-bf85-1db930355cce button.colab-df-generate');\n",
       "      buttonEl.style.display =\n",
       "        google.colab.kernel.accessAllowed ? 'block' : 'none';\n",
       "\n",
       "      buttonEl.onclick = () => {\n",
       "        google.colab.notebook.generateWithVariable('df');\n",
       "      }\n",
       "      })();\n",
       "    </script>\n",
       "  </div>\n",
       "\n",
       "    </div>\n",
       "  </div>\n"
      ],
      "text/plain": [
       "                    WER       CER\n",
       "analysis1.srt  0.078652  0.049256\n",
       "analysis2.srt  0.124752  0.089658\n",
       "analysis3.srt  0.167347  0.049602\n",
       "part1.srt      0.107071  0.059895\n",
       "part10.srt     0.109620  0.055346\n",
       "part11.srt     0.067442  0.040816\n",
       "part12.srt     0.116162  0.073452\n",
       "part13.srt     0.129344  0.103612\n",
       "part2.srt      0.079320  0.042634\n",
       "part3.srt      0.061224  0.026500\n",
       "part4.srt      0.088889  0.044301\n",
       "part5.srt      0.099256  0.051891\n",
       "part6.srt      0.123223  0.073977\n",
       "part7.srt      0.091133  0.056760\n",
       "part8.srt      0.090293  0.046069\n",
       "part9.srt      0.154639  0.068766\n",
       "Average        0.105523  0.058284"
      ]
     },
     "execution_count": 22,
     "metadata": {},
     "output_type": "execute_result"
    }
   ],
   "source": [
    "# Example usage\n",
    "ground_truth_folder = 'Ground_truth_srt/3_min'\n",
    "whisper_folder = 'SaT_srt'\n",
    "\n",
    "# Calculate error rates for all SRT files in both folders\n",
    "all_error_rates, average_wer, average_cer = process_folders(ground_truth_folder, whisper_folder)\n",
    "\n",
    "# Create a pandas DataFrame to display the results\n",
    "df = pd.DataFrame.from_dict(all_error_rates, orient='index')\n",
    "\n",
    "# Add averages as a new row\n",
    "df.loc[\"Average\"] = [average_wer, average_cer]\n",
    "\n",
    "# Display the table\n",
    "df\n",
    "\n",
    "# Optionally, save the results to a CSV file\n",
    "# df.to_csv(\"error_rates_summary.csv\")"
   ]
  },
  {
   "cell_type": "code",
   "execution_count": null,
   "metadata": {
    "id": "w-_dg2y142fS"
   },
   "outputs": [],
   "source": [
    "# Optionally, save the results to a CSV file\n",
    "df.to_csv(\"error_rates_summary_SAT.csv\")"
   ]
  },
  {
   "cell_type": "markdown",
   "metadata": {
    "id": "dQt2Sx95wd-L"
   },
   "source": [
    "#Check word counts per segment"
   ]
  },
  {
   "cell_type": "code",
   "execution_count": null,
   "metadata": {
    "id": "kixpaA93d5Qm"
   },
   "outputs": [],
   "source": [
    "def parse_srt(srt_content):\n",
    "    \"\"\"\n",
    "    Parses the SRT content and returns a list of tuples containing the start and end times\n",
    "    and the corresponding subtitle text.\n",
    "    \"\"\"\n",
    "    entries = re.split(r'\\n\\s*\\n', srt_content.strip())  # Split entries by empty lines\n",
    "    parsed_entries = []\n",
    "\n",
    "    for entry in entries:\n",
    "        parts = entry.split('\\n')\n",
    "        time_range = parts[1]  # The time interval\n",
    "        subtitle_text = ' '.join(parts[2:])  # The subtitle text\n",
    "        start_time, end_time = time_range.split(' --> ')  # Split time range\n",
    "        parsed_entries.append((start_time, end_time, subtitle_text))\n",
    "\n",
    "    return parsed_entries\n",
    "\n",
    "def count_words_per_segment(srt_data):\n",
    "    \"\"\"\n",
    "    Counts the number of words in each subtitle segment from parsed SRT data.\n",
    "    Returns a list of word counts for each segment.\n",
    "    \"\"\"\n",
    "    word_counts = []\n",
    "\n",
    "    for entry in srt_data:\n",
    "        subtitle_text = entry[2]  # The subtitle text\n",
    "        word_count = len(subtitle_text.split())  # Split by spaces and count words\n",
    "        word_counts.append(word_count)\n",
    "\n",
    "    return word_counts"
   ]
  },
  {
   "cell_type": "code",
   "execution_count": null,
   "metadata": {
    "id": "izuXY9HMi6V6"
   },
   "outputs": [],
   "source": [
    "# Load ground truth and Whisper SRT files\n",
    "gt_srt ='Ground_truth_srt/3_min/part1.srt'\n",
    "whisper_srt = 'Segment_fn_srt/captions_part1.srt'"
   ]
  },
  {
   "cell_type": "code",
   "execution_count": null,
   "metadata": {
    "colab": {
     "base_uri": "https://localhost:8080/"
    },
    "id": "pP6mlIWrigyf",
    "outputId": "f7f01f38-9f2c-43f3-fe13-daca270fba02"
   },
   "outputs": [
    {
     "name": "stdout",
     "output_type": "stream",
     "text": [
      "GT SRT Word Counts per Segment:  [1, 1, 6, 4, 6, 8, 7, 4, 7, 11, 4, 3, 12, 8, 11, 8, 7, 2, 7, 5, 9, 10, 11, 8, 4, 4, 10, 11, 11, 2, 4, 10, 4, 10, 5, 10, 12, 8, 11, 7, 10, 12, 11, 8, 7, 10, 2, 9, 2, 7, 7, 1, 8, 10, 6, 6, 5, 12, 3, 11, 5, 9, 4, 10, 5, 4, 4, 4, 9, 11]\n",
      "Segment fn SRT Word Counts per Segment: [1, 1, 8, 8, 8, 7, 4, 8, 2, 8, 4, 8, 8, 8, 1, 8, 3, 8, 8, 1, 1, 1, 7, 8, 8, 8, 1, 1, 8, 3, 8, 1, 8, 8, 2, 8, 3, 8, 3, 2, 4, 8, 2, 8, 8, 8, 7, 8, 5, 8, 8, 3, 7, 8, 2, 8, 8, 1, 8, 7, 7, 3, 8, 1, 8, 1, 2, 7, 8, 8, 8, 2, 7, 2, 6, 5, 8, 8, 2, 8, 1, 8, 1, 8, 2, 3, 7, 2, 3, 4, 2, 2, 1, 3, 8, 1, 1, 1, 8, 6]\n"
     ]
    }
   ],
   "source": [
    "# Example usage:\n",
    "# Load the content of your GT SRT and Whisper SRT files (assuming they are read as strings)\n",
    "with open(gt_srt, 'r') as file:\n",
    "    gt_srt_content = file.read()\n",
    "\n",
    "with open(whisper_srt, 'r') as file:\n",
    "    whisper_srt_content = file.read()\n",
    "\n",
    "# Parse both SRTs\n",
    "gt_srt = parse_srt(gt_srt_content)\n",
    "whisper_srt = parse_srt(whisper_srt_content)\n",
    "\n",
    "# Count the number of words in each segment for both GT and Whisper SRTs\n",
    "gt_word_counts = count_words_per_segment(gt_srt)\n",
    "whisper_word_counts = count_words_per_segment(whisper_srt)\n",
    "\n",
    "# Print the results\n",
    "print(\"GT SRT Word Counts per Segment: \", gt_word_counts)\n",
    "print(\"Segment fn SRT Word Counts per Segment:\", whisper_word_counts)"
   ]
  },
  {
   "cell_type": "code",
   "execution_count": null,
   "metadata": {
    "colab": {
     "base_uri": "https://localhost:8080/"
    },
    "id": "RgAoB_xoDCXq",
    "outputId": "a6aa1c64-41ae-46c5-e1fd-bcec891b53fc"
   },
   "outputs": [
    {
     "data": {
      "text/plain": [
       "100"
      ]
     },
     "execution_count": 26,
     "metadata": {},
     "output_type": "execute_result"
    }
   ],
   "source": [
    "len(whisper_word_counts)"
   ]
  },
  {
   "cell_type": "markdown",
   "metadata": {
    "id": "4zCaDX1xwkjh"
   },
   "source": [
    "# Visualize the word counts segment-wise - part1.srt"
   ]
  },
  {
   "cell_type": "code",
   "execution_count": null,
   "metadata": {
    "colab": {
     "base_uri": "https://localhost:8080/",
     "height": 507
    },
    "id": "aQqElh7Hl62Z",
    "outputId": "48d68a88-5494-40ad-c210-8ff149ef7676"
   },
   "outputs": [
    {
     "data": {
      "image/png": "[encoded data removed]",
      "text/plain": [
       "<Figure size 1200x500 with 2 Axes>"
      ]
     },
     "metadata": {},
     "output_type": "display_data"
    }
   ],
   "source": [
    "# Generate segment numbers (x-axis)\n",
    "whisper_segments = list(range(1, len(whisper_word_counts) + 1))\n",
    "gt_segments = list(range(1, len(gt_word_counts) + 1))\n",
    "\n",
    "# Create subplots for side-by-side comparison\n",
    "fig, axes = plt.subplots(1, 2, figsize=(12, 5))  # 1 row, 2 columns\n",
    "\n",
    "# Whisper Word Counts Bar Chart\n",
    "axes[0].bar(whisper_segments, whisper_word_counts, color='purple', edgecolor='black')\n",
    "axes[0].set_xlabel('Segment Number')\n",
    "axes[0].set_ylabel('Word Count')\n",
    "axes[0].set_title('Word Counts per Segment - Custom Function SRT')\n",
    "axes[0].set_ylim(0,25)\n",
    "axes[0].set_xticks(range(1, len(whisper_word_counts) + 1, 5))  # Show every 5th segment on x-axis\n",
    "axes[0].tick_params(axis='x', rotation=45)  # Rotate x-axis labels for better visibility\n",
    "\n",
    "# Ground Truth Word Counts Bar Chart\n",
    "axes[1].bar(gt_segments, gt_word_counts, color='lightgreen', edgecolor='black')\n",
    "axes[1].set_xlabel('Segment Number')\n",
    "axes[1].set_ylabel('Word Count')\n",
    "axes[1].set_title('Word Counts per Segment - Ground Truth SRT')\n",
    "axes[1].set_xticks(range(1, len(gt_word_counts) + 1, 5))  # Show every 5th segment on x-axis\n",
    "axes[1].set_ylim(0,25)\n",
    "axes[1].tick_params(axis='x', rotation=45)  # Rotate x-axis labels for better visibility\n",
    "\n",
    "# Adjust layout\n",
    "plt.tight_layout()\n",
    "\n",
    "# Show the plots\n",
    "plt.show()"
   ]
  },
  {
   "cell_type": "markdown",
   "metadata": {
    "id": "DFgkDhRJB4or"
   },
   "source": [
    "# Compare Segments: using text similarity metrics\n",
    "1. levenshtein\n",
    "2. cosine similarity\n",
    "3. sequence similarity - SequenceMatcher"
   ]
  },
  {
   "cell_type": "code",
   "execution_count": null,
   "metadata": {
    "id": "bUMNjSAObHvl"
   },
   "outputs": [],
   "source": [
    "def text_similarity(text1, text2, method=\"levenshtein\"):\n",
    "    \"\"\"Calculate the similarity between two texts using the specified method.\"\"\"\n",
    "    if method == \"Levenshtein\":\n",
    "        return Levenshtein.ratio(text1, text2)\n",
    "\n",
    "    elif method == \"Cosine\":\n",
    "        vectorizer = TfidfVectorizer()\n",
    "        tfidf_matrix = vectorizer.fit_transform([text1, text2])\n",
    "        return cosine_similarity(tfidf_matrix[0:1], tfidf_matrix[1:2])[0][0]\n",
    "\n",
    "    elif method == \"Sequence-Match\":\n",
    "        return SequenceMatcher(None, text1, text2).ratio()\n",
    "\n",
    "    else:\n",
    "        raise ValueError(\"Invalid similarity method. Choose from 'levenshtein', 'cosine', or 'sequence'.\")"
   ]
  },
  {
   "cell_type": "code",
   "execution_count": null,
   "metadata": {
    "id": "cSJNDJ84Yr6M"
   },
   "outputs": [],
   "source": [
    "def compare_srt_files(gt_file, whisper_file, methods, similarity_threshold=0.3):\n",
    "    \"\"\"Compare two SRT files and calculate average similarity for each method.\"\"\"\n",
    "    with open(gt_file, 'r') as f:\n",
    "        gt_subtitles = list(srt.parse(f.read()))\n",
    "\n",
    "    with open(whisper_file, 'r') as f:\n",
    "        whisper_subtitles = list(srt.parse(f.read()))\n",
    "\n",
    "    similarities = {method: [] for method in methods}\n",
    "\n",
    "    for gt, whisper in zip(gt_subtitles, whisper_subtitles):\n",
    "        for method in methods:\n",
    "            score = text_similarity(gt.content, whisper.content, method=method)\n",
    "            similarities[method].append(score)\n",
    "\n",
    "    # Calculate average similarity for each method\n",
    "    avg_similarities = {method: sum(scores) / len(scores) for method, scores in similarities.items()}\n",
    "    return avg_similarities\n",
    "\n",
    "def get_files_from_directory(directory, file_extension=\".srt\"):\n",
    "    \"\"\"Retrieve all files from a directory.\"\"\"\n",
    "    files = {}\n",
    "    for root, _, filenames in os.walk(directory):\n",
    "        for filename in filenames:\n",
    "            if filename.endswith(file_extension):\n",
    "                base_name = os.path.basename(filename)\n",
    "                files[base_name] = os.path.join(root, filename)\n",
    "    return files\n",
    "\n",
    "def pair_files(dir1, dir2, file_extension=\".srt\"):\n",
    "    \"\"\"Pair files from two directories by base name.\"\"\"\n",
    "    files1 = get_files_from_directory(dir1, file_extension)\n",
    "    files2 = get_files_from_directory(dir2, file_extension)\n",
    "\n",
    "    return [(files1[name], files2[name]) for name in files1 if name in files2]\n",
    "\n",
    "def pair_files_segment(dir1, dir2, file_extension=\".srt\"):\n",
    "    \"\"\"Pair files from two directories if a file name in dir1 is a substring of a file name in dir2.\"\"\"\n",
    "    files1 = get_files_from_directory(dir1, file_extension)\n",
    "    files2 = get_files_from_directory(dir2, file_extension)\n",
    "    #print(files2)\n",
    "    pairs = []\n",
    "\n",
    "    for file1 in files1:\n",
    "        base_name1 = os.path.splitext(file1)[0]+\".srt\"  # Get the base name without extension\n",
    "        for file2 in files2:\n",
    "          if base_name1 in file2:  # Check if base_name1 is a substring of file2\n",
    "              pairs.append((\"Ground_truth_srt/3_min/\"+file1, \"Segment_fn_srt/\"+file2))\n",
    "\n",
    "    return pairs"
   ]
  },
  {
   "cell_type": "code",
   "execution_count": null,
   "metadata": {
    "id": "ce0vkf92bNaG"
   },
   "outputs": [],
   "source": []
  },
  {
   "cell_type": "code",
   "execution_count": null,
   "metadata": {
    "id": "1-ZOvMymauKu"
   },
   "outputs": [],
   "source": [
    "# Main comparison\n",
    "def get_table(gt_directory, whisper_directory, methods=[\"Levenshtein\", \"Cosine\", \"Sequence-Match\"]):\n",
    "    # Pair files\n",
    "    paired_files = pair_files(gt_directory, whisper_directory)\n",
    "\n",
    "    # Prepare data for the table\n",
    "    results = []\n",
    "    for gt_file, whisper_file in paired_files:\n",
    "        avg_similarities = compare_srt_files(gt_file, whisper_file, methods)\n",
    "        results.append({\n",
    "            #\"GT File\": os.path.basename(gt_file),\n",
    "            #\"Whisper File\": os.path.basename(whisper_file),\n",
    "            \"File\":os.path.basename(gt_file),\n",
    "            **avg_similarities\n",
    "        })\n",
    "\n",
    "    # Create DataFrame\n",
    "    df = pd.DataFrame(results)\n",
    "    return df"
   ]
  },
  {
   "cell_type": "code",
   "execution_count": null,
   "metadata": {
    "id": "xWGXqZN5dqGg"
   },
   "outputs": [],
   "source": [
    "from tabulate import tabulate\n",
    "import pandas as pd\n",
    "\n",
    "# Function to prepare tables for display\n",
    "def create_formatted_table(df, table_title):\n",
    "    \"\"\"\n",
    "    Format the DataFrame as a table for display in a report.\n",
    "    \"\"\"\n",
    "    print(f\"\\n{table_title}\\n\")\n",
    "    print(tabulate(df, headers=\"keys\", tablefmt=\"grid\", showindex=False))"
   ]
  },
  {
   "cell_type": "code",
   "execution_count": null,
   "metadata": {
    "id": "LTUfbKHibRGb"
   },
   "outputs": [],
   "source": [
    "# Example usage\n",
    "gt_directory = \"Ground_truth_srt/3_min\"\n",
    "comp_directory = \"Gemini_async/srts\"\n",
    "\n",
    "df = get_table(gt_directory, comp_directory)"
   ]
  },
  {
   "cell_type": "code",
   "execution_count": null,
   "metadata": {
    "colab": {
     "base_uri": "https://localhost:8080/"
    },
    "id": "7LIvMqaTb8B3",
    "outputId": "b5733645-4a09-4639-ffc1-580d9bf95359"
   },
   "outputs": [
    {
     "name": "stdout",
     "output_type": "stream",
     "text": [
      "\n",
      "Table 1: Results for Gemini\n",
      "\n",
      "+---------------+---------------+-----------+------------------+\n",
      "| File          |   Levenshtein |    Cosine |   Sequence-Match |\n",
      "+===============+===============+===========+==================+\n",
      "| part1.srt     |      0.3992   | 0.151927  |         0.340963 |\n",
      "+---------------+---------------+-----------+------------------+\n",
      "| part2.srt     |      0.384373 | 0.0712293 |         0.328936 |\n",
      "+---------------+---------------+-----------+------------------+\n",
      "| part3.srt     |      0.371963 | 0.0520343 |         0.299103 |\n",
      "+---------------+---------------+-----------+------------------+\n",
      "| part4.srt     |      0.433561 | 0.218485  |         0.392456 |\n",
      "+---------------+---------------+-----------+------------------+\n",
      "| part5.srt     |      0.340437 | 0.0290804 |         0.275462 |\n",
      "+---------------+---------------+-----------+------------------+\n",
      "| part6.srt     |      0.399257 | 0.118872  |         0.333352 |\n",
      "+---------------+---------------+-----------+------------------+\n",
      "| part7.srt     |      0.33836  | 0.0400773 |         0.254008 |\n",
      "+---------------+---------------+-----------+------------------+\n",
      "| part8.srt     |      0.450805 | 0.220674  |         0.397101 |\n",
      "+---------------+---------------+-----------+------------------+\n",
      "| part9.srt     |      0.439596 | 0.173659  |         0.3799   |\n",
      "+---------------+---------------+-----------+------------------+\n",
      "| part10.srt    |      0.362486 | 0.0594253 |         0.283714 |\n",
      "+---------------+---------------+-----------+------------------+\n",
      "| part11.srt    |      0.389987 | 0.0907744 |         0.322855 |\n",
      "+---------------+---------------+-----------+------------------+\n",
      "| part12.srt    |      0.366282 | 0.074789  |         0.306488 |\n",
      "+---------------+---------------+-----------+------------------+\n",
      "| part13.srt    |      0.434591 | 0.188799  |         0.401974 |\n",
      "+---------------+---------------+-----------+------------------+\n",
      "| analysis3.srt |      0.367767 | 0.0753316 |         0.301835 |\n",
      "+---------------+---------------+-----------+------------------+\n",
      "| analysis2.srt |      0.359405 | 0.0253409 |         0.267154 |\n",
      "+---------------+---------------+-----------+------------------+\n",
      "| analysis1.srt |      0.365509 | 0.040902  |         0.295786 |\n",
      "+---------------+---------------+-----------+------------------+\n"
     ]
    }
   ],
   "source": [
    "create_formatted_table(df, \"Table 1: Results for Gemini\")"
   ]
  },
  {
   "cell_type": "code",
   "execution_count": null,
   "metadata": {
    "id": "Y5Xg_yUncD0J"
   },
   "outputs": [],
   "source": []
  },
  {
   "cell_type": "code",
   "execution_count": null,
   "metadata": {
    "colab": {
     "base_uri": "https://localhost:8080/",
     "height": 624
    },
    "id": "DyHaIdkacbRC",
    "outputId": "54fbd4f4-3797-441b-ec52-3e7f56b7254e"
   },
   "outputs": [
    {
     "data": {
      "image/png": "[encoded data removed]",
      "text/plain": [
       "<Figure size 1200x600 with 1 Axes>"
      ]
     },
     "metadata": {},
     "output_type": "display_data"
    },
    {
     "name": "stdout",
     "output_type": "stream",
     "text": [
      "Plot saved as segment_fn_similarity_scores.png\n"
     ]
    }
   ],
   "source": [
    "import matplotlib.pyplot as plt\n",
    "import seaborn as sns\n",
    "\n",
    "def plot_similarity_scores(df, title, output_file):\n",
    "    \"\"\"\n",
    "    Plot similarity scores as a bar chart for each file pair.\n",
    "    \"\"\"\n",
    "    # Melt the DataFrame to make it suitable for Seaborn\n",
    "    melted_df = df.melt(\n",
    "        id_vars=[\"File\"],\n",
    "        value_vars=[\"Levenshtein\", \"Cosine\", \"Sequence-Match\"],\n",
    "        var_name=\"Similarity Metric\",\n",
    "        value_name=\"Score\"\n",
    "    )\n",
    "\n",
    "    # Create the plot\n",
    "    plt.figure(figsize=(12, 6))\n",
    "    sns.barplot(\n",
    "        x=\"File\",\n",
    "        y=\"Score\",\n",
    "        hue=\"Similarity Metric\",\n",
    "        data=melted_df,\n",
    "        palette=\"viridis\"\n",
    "    )\n",
    "    plt.title(title, fontsize=16, fontweight=\"bold\")\n",
    "    plt.ylabel(\"Similarity Score\")\n",
    "    plt.xlabel(\"Audio Files\")\n",
    "    plt.ylim(0, 1)  # Similarity scores are between 0 and 1\n",
    "    plt.xticks(rotation=45, ha=\"right\")\n",
    "    plt.legend(title=\"Metric\", fontsize=10)\n",
    "    plt.tight_layout()\n",
    "\n",
    "    # Save the plot\n",
    "    plt.savefig(output_file, dpi=300)\n",
    "    plt.show()\n",
    "    print(f\"Plot saved as {output_file}\")\n",
    "\n",
    "# Example usage\n",
    "plot_similarity_scores(\n",
    "    df,\n",
    "    \"Average Similarity Scores for Gemini segmented Captions w.r.t Ground Truth SRT\",\n",
    "    \"segment_fn_similarity_scores.png\"\n",
    ")\n"
   ]
  },
  {
   "cell_type": "code",
   "execution_count": null,
   "metadata": {
    "colab": {
     "base_uri": "https://localhost:8080/",
     "height": 624
    },
    "id": "D3PqLwdzZtKv",
    "outputId": "7737d40d-2caa-4b7f-bc8c-93d5b1f42d5c"
   },
   "outputs": [
    {
     "data": {
      "image/png": "[encoded data removed]",
      "text/plain": [
       "<Figure size 1200x600 with 1 Axes>"
      ]
     },
     "metadata": {},
     "output_type": "display_data"
    },
    {
     "name": "stdout",
     "output_type": "stream",
     "text": [
      "Plot saved as segment_fn_similarity_scores.png\n"
     ]
    }
   ],
   "source": [
    "import matplotlib.pyplot as plt\n",
    "import seaborn as sns\n",
    "\n",
    "def plot_similarity_scores(df, title, output_file):\n",
    "    \"\"\"\n",
    "    Plot similarity scores as a bar chart for each file pair with custom colors.\n",
    "    \"\"\"\n",
    "    # Melt the DataFrame to make it suitable for Seaborn\n",
    "    melted_df = df.melt(\n",
    "        id_vars=[\"File\"],\n",
    "        value_vars=[\"Levenshtein\", \"Cosine\", \"Sequence-Match\"],\n",
    "        var_name=\"Similarity Metric\",\n",
    "        value_name=\"Score\"\n",
    "    )\n",
    "\n",
    "    # Custom color palette\n",
    "    custom_palette = [\"gold\", \"maroon\", \"grey\"]\n",
    "\n",
    "    # Create the plot\n",
    "    plt.figure(figsize=(12, 6))\n",
    "    sns.barplot(\n",
    "        x=\"File\",\n",
    "        y=\"Score\",\n",
    "        hue=\"Similarity Metric\",\n",
    "        data=melted_df,\n",
    "        palette=custom_palette\n",
    "    )\n",
    "    plt.title(title, fontsize=16, fontweight=\"bold\")\n",
    "    plt.ylabel(\"Similarity Score\")\n",
    "    plt.xlabel(\"Audio Files\")\n",
    "    plt.ylim(0, 1)  # Similarity scores are between 0 and 1\n",
    "    plt.xticks(rotation=45, ha=\"right\")\n",
    "    plt.legend(title=\"Metric\", fontsize=10)\n",
    "    plt.tight_layout()\n",
    "\n",
    "    # Save the plot\n",
    "    plt.savefig(output_file, dpi=300)\n",
    "    plt.show()\n",
    "    print(f\"Plot saved as {output_file}\")\n",
    "\n",
    "# Example usage\n",
    "plot_similarity_scores(\n",
    "    df,\n",
    "    \"Average Similarity Scores for Custom Segmented SRT Files w.r.t Ground Truth SRT\",\n",
    "    \"segment_fn_similarity_scores.png\"\n",
    ")\n"
   ]
  },
  {
   "cell_type": "code",
   "execution_count": null,
   "metadata": {
    "colab": {
     "base_uri": "https://localhost:8080/"
    },
    "id": "qwzlW_rMkbIS",
    "outputId": "23865e78-c3ce-4deb-b368-7203099454e6"
   },
   "outputs": [
    {
     "name": "stdout",
     "output_type": "stream",
     "text": [
      "           Metric  Average Score\n",
      "0     Levenshtein       0.387724\n",
      "1          Cosine       0.101963\n",
      "2  Sequence-Match       0.323818\n",
      "╒════╤════════════════╤═════════════════╕\n",
      "│    │ Metric         │   Average Score │\n",
      "╞════╪════════════════╪═════════════════╡\n",
      "│  0 │ Levenshtein    │        0.387724 │\n",
      "├────┼────────────────┼─────────────────┤\n",
      "│  1 │ Cosine         │        0.101963 │\n",
      "├────┼────────────────┼─────────────────┤\n",
      "│  2 │ Sequence-Match │        0.323818 │\n",
      "╘════╧════════════════╧═════════════════╛\n"
     ]
    }
   ],
   "source": [
    "# get averages\n",
    "import pandas as pd\n",
    "\n",
    "def compute_average_scores(df):\n",
    "    \"\"\"\n",
    "    Compute average similarity scores across 'levenshtein', 'cosine', and 'sequence'.\n",
    "    Display the results as a table.\n",
    "    \"\"\"\n",
    "    # Calculate average scores for each column\n",
    "    avg_scores = df[['Levenshtein', 'Cosine', 'Sequence-Match']].mean().reset_index()\n",
    "    avg_scores.columns = ['Metric', 'Average Score']\n",
    "\n",
    "    # Display the table\n",
    "    print(avg_scores)\n",
    "\n",
    "    return avg_scores\n",
    "\n",
    "# Example usage\n",
    "avg_scores = compute_average_scores(df)\n",
    "\n",
    "# Display as a simple table\n",
    "from tabulate import tabulate\n",
    "print(tabulate(avg_scores, headers='keys', tablefmt='fancy_grid'))\n"
   ]
  },
  {
   "cell_type": "code",
   "execution_count": null,
   "metadata": {
    "colab": {
     "base_uri": "https://localhost:8080/"
    },
    "id": "H8Zw0HhAdmhV",
    "outputId": "8355cf4f-1e99-468f-b47a-77c6ae474f5d"
   },
   "outputs": [
    {
     "name": "stdout",
     "output_type": "stream",
     "text": [
      "╒════╤═════════════════════╤═══════════════╤══════════╤══════════════════╕\n",
      "│    │ Model               │   Levenshtein │   Cosine │   Sequence-Match │\n",
      "╞════╪═════════════════════╪═══════════════╪══════════╪══════════════════╡\n",
      "│  0 │ Whisper-Timestamped │       0.32098 │  0.06009 │          0.2395  │\n",
      "├────┼─────────────────────┼───────────────┼──────────┼──────────────────┤\n",
      "│  1 │ Gemini-async        │       0.38772 │  0.10196 │          0.32382 │\n",
      "├────┼─────────────────────┼───────────────┼──────────┼──────────────────┤\n",
      "│  2 │ SaT                 │       0.31931 │  0.06716 │          0.24393 │\n",
      "├────┼─────────────────────┼───────────────┼──────────┼──────────────────┤\n",
      "│  3 │ Custom_function     │       0.34686 │  0.09407 │          0.28536 │\n",
      "╘════╧═════════════════════╧═══════════════╧══════════╧══════════════════╛\n"
     ]
    }
   ],
   "source": [
    "def combine_avg_scores(model_scores):\n",
    "    \"\"\"\n",
    "    Combine average scores from multiple models into a single table.\n",
    "    \"\"\"\n",
    "    # Create a DataFrame from the dictionary of model scores\n",
    "    combined_df = pd.DataFrame(model_scores)\n",
    "\n",
    "    # Display the combined table\n",
    "    print(tabulate(combined_df, headers='keys', tablefmt='fancy_grid'))\n",
    "\n",
    "    return combined_df\n",
    "\n",
    "# Example input: Average scores from 4 models\n",
    "model_scores = {\n",
    "    \"Model\": [\"Whisper-Timestamped\", \"Gemini-async\", \"SaT\", \"Custom_function\"],\n",
    "    \"Levenshtein\": [0.32098, 0.38772,0.31931 , 0.346860],\n",
    "    \"Cosine\": [0.06009, 0.10196, 0.06716, 0.09407],\n",
    "    \"Sequence-Match\": [0.23950, 0.32382,0.24393 , 0.28536]\n",
    "}\n",
    "\n",
    "# Combine and display\n",
    "combined_avg_scores = combine_avg_scores(model_scores)"
   ]
  },
  {
   "cell_type": "code",
   "execution_count": null,
   "metadata": {
    "colab": {
     "base_uri": "https://localhost:8080/"
    },
    "id": "FKjbvCSqehJf",
    "outputId": "819ccf03-7112-497c-d199-9c25d38528b9"
   },
   "outputs": [
    {
     "name": "stdout",
     "output_type": "stream",
     "text": [
      "           Metric  Average Score\n",
      "0     Levenshtein       0.319306\n",
      "1          Cosine       0.067164\n",
      "2  Sequence-Match       0.243934\n",
      "╒════╤════════════════╤═════════════════╕\n",
      "│    │ Metric         │   Average Score │\n",
      "╞════╪════════════════╪═════════════════╡\n",
      "│  0 │ Levenshtein    │       0.319306  │\n",
      "├────┼────────────────┼─────────────────┤\n",
      "│  1 │ Cosine         │       0.0671642 │\n",
      "├────┼────────────────┼─────────────────┤\n",
      "│  2 │ Sequence-Match │       0.243934  │\n",
      "╘════╧════════════════╧═════════════════╛\n"
     ]
    }
   ],
   "source": [
    "import pandas as pd\n",
    "\n",
    "def compute_average_scores(df):\n",
    "    \"\"\"\n",
    "    Compute average similarity scores across 'levenshtein', 'cosine', and 'sequence'.\n",
    "    Display the results as a table.\n",
    "    \"\"\"\n",
    "    # Calculate average scores for each column\n",
    "    avg_scores = df[['Levenshtein', 'Cosine', 'Sequence-Match']].mean().reset_index()\n",
    "    avg_scores.columns = ['Metric', 'Average Score']\n",
    "\n",
    "    # Display the table\n",
    "    print(avg_scores)\n",
    "\n",
    "    return avg_scores\n",
    "\n",
    "# Example usage\n",
    "avg_scores = compute_average_scores(df)\n",
    "\n",
    "# Display as a simple table\n",
    "from tabulate import tabulate\n",
    "print(tabulate(avg_scores, headers='keys', tablefmt='fancy_grid'))\n"
   ]
  },
  {
   "cell_type": "markdown",
   "metadata": {
    "id": "DZgpNNA5B3rb"
   },
   "source": [
    "# Get average time differences"
   ]
  },
  {
   "cell_type": "code",
   "execution_count": null,
   "metadata": {
    "id": "cs3DkkiigDBo"
   },
   "outputs": [],
   "source": [
    "\n",
    "from datetime import datetime, timedelta\n",
    "import re\n",
    "\n",
    "def parse_srt(file_path):\n",
    "    \"\"\"Parse the .srt file and return a list of (timestamp, text).\"\"\"\n",
    "    with open(file_path, 'r', encoding='utf-8') as f:\n",
    "        content = f.read()\n",
    "\n",
    "    segments = re.split(r'\\n\\s*\\n', content.strip())\n",
    "    timestamps = []\n",
    "\n",
    "    for segment in segments:\n",
    "        lines = segment.splitlines()\n",
    "        if len(lines) >= 3:\n",
    "            timestamp_line = lines[1]\n",
    "            text_lines = lines[2:]\n",
    "            timestamps.append((timestamp_line, \" \".join(text_lines)))\n",
    "\n",
    "    return timestamps\n",
    "\n",
    "def get_first_word_timestamp(timestamp):\n",
    "    \"\"\"Get the timestamp of the first word based on the segment's start time.\"\"\"\n",
    "    # Parse the start time from the timestamp line (e.g., \"00:00:01,600 --> 00:00:03,800\")\n",
    "    start_time_str = timestamp.split('-->')[0].strip()\n",
    "    start_time = datetime.strptime(start_time_str, '%H:%M:%S,%f')\n",
    "    return start_time\n",
    "\n",
    "def compare_timestamps(srt1_path, srt2_path):\n",
    "    \"\"\"Compare timestamps of the first word in each segment of two .srt files.\"\"\"\n",
    "    srt1_segments = parse_srt(srt1_path)\n",
    "    srt2_segments = parse_srt(srt2_path)\n",
    "    length = min(len(srt1_segments),len(srt2_segments))\n",
    "\n",
    "    time_differences = []\n",
    "\n",
    "    for (timestamp1, _), (timestamp2, _) in zip(srt1_segments[:length], srt2_segments[:length]):\n",
    "        time1 = get_first_word_timestamp(timestamp1)\n",
    "        time2 = get_first_word_timestamp(timestamp2)\n",
    "        time_diff = abs((time1 - time2).total_seconds())\n",
    "        time_differences.append(time_diff)\n",
    "\n",
    "    return time_differences"
   ]
  },
  {
   "cell_type": "code",
   "execution_count": null,
   "metadata": {
    "colab": {
     "base_uri": "https://localhost:8080/"
    },
    "id": "tpy2m1CpB8Jt",
    "outputId": "72cbdb89-b939-4aaf-b164-acbf2816745f"
   },
   "outputs": [
    {
     "name": "stdout",
     "output_type": "stream",
     "text": [
      "Time Differences (in seconds):\n",
      "[0.0, 4.76, 8.559, 6.493, 12.72, 16.239, 19.42, 24.557, 27.343, 26.829, 28.29, 28.683, 31.203, 35.669, 34.064, 31.237, 33.284, 35.091, 38.703, 42.803, 46.223, 48.603, 47.589, 52.536, 49.583, 51.764, 50.589, 51.617, 53.103, 53.257, 54.916, 56.289, 56.15, 62.236, 60.823, 61.549, 61.649, 60.723, 58.617, 60.269, 60.029, 57.397, 54.59, 51.376, 47.323, 45.969, 42.09, 43.57, 49.356]\n"
     ]
    }
   ],
   "source": [
    "# Example usage\n",
    "# Load ground truth and Whisper SRT files\n",
    "gt_srt ='Ground_truth_srt/3_min/part1.srt'\n",
    "whisper_srt = 'Gemini_srt/part1.srt' ##'Segment_fn_srt/captions_part1.srt'\n",
    "\n",
    "\n",
    "time_differences = compare_timestamps(gt_srt, whisper_srt)\n",
    "\n",
    "# Display list of differences\n",
    "print(\"Time Differences (in seconds):\")\n",
    "print(time_differences)"
   ]
  },
  {
   "cell_type": "code",
   "execution_count": null,
   "metadata": {
    "colab": {
     "base_uri": "https://localhost:8080/"
    },
    "id": "cpdv6LTQCEfQ",
    "outputId": "f915bdc3-9cea-4f43-8f6f-6c1ec9b6d9b4"
   },
   "outputs": [
    {
     "data": {
      "text/plain": [
       "49"
      ]
     },
     "execution_count": 34,
     "metadata": {},
     "output_type": "execute_result"
    }
   ],
   "source": [
    "len(time_differences)"
   ]
  },
  {
   "cell_type": "code",
   "execution_count": null,
   "metadata": {
    "colab": {
     "base_uri": "https://localhost:8080/",
     "height": 564
    },
    "id": "ymUyWvwyC6YX",
    "outputId": "a1ccbfcc-45d0-4b78-d564-854dc9d12036"
   },
   "outputs": [
    {
     "data": {
      "image/png": "[encoded data removed]",
      "text/plain": [
       "<Figure size 1200x600 with 1 Axes>"
      ]
     },
     "metadata": {},
     "output_type": "display_data"
    }
   ],
   "source": [
    "def plot_time_differences(differences):\n",
    "    \"\"\"Plot the list of time differences as a bar plot.\"\"\"\n",
    "    plt.figure(figsize=(12, 6))\n",
    "    plt.bar(range(len(differences[:10])), differences[:10], color='skyblue', edgecolor='blue')\n",
    "    plt.xlabel('Segment Index')\n",
    "    plt.ylabel('Time Difference (seconds)')\n",
    "    plt.title('Time Differences Between Segments of Two SRT Files')\n",
    "    plt.grid(axis='y', linestyle='--', alpha=0.7)\n",
    "    plt.show()\n",
    "\n",
    "plot_time_differences(time_differences)"
   ]
  },
  {
   "cell_type": "code",
   "execution_count": null,
   "metadata": {
    "id": "79UW2pTMDjZx"
   },
   "outputs": [],
   "source": []
  }
 ],
 "metadata": {
  "colab": {
   "provenance": []
  },
  "kernelspec": {
   "display_name": "Python 3",
   "name": "python3"
  },
  "language_info": {
   "name": "python"
  }
 },
 "nbformat": 4,
 "nbformat_minor": 0
}
